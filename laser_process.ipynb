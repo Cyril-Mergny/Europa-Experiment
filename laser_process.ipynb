{
 "cells": [
  {
   "cell_type": "code",
   "execution_count": 4,
   "metadata": {},
   "outputs": [],
   "source": [
    "import glob\n",
    "import os\n",
    "import numpy as np\n",
    "import cv2\n",
    "from skimage import feature\n",
    "import matplotlib.pyplot as plt\n",
    "from PIL import Image, ImageEnhance"
   ]
  },
  {
   "cell_type": "markdown",
   "metadata": {},
   "source": [
    "## Functions"
   ]
  },
  {
   "cell_type": "code",
   "execution_count": 5,
   "metadata": {},
   "outputs": [],
   "source": [
    "def ImShowReduced(im, size = (700,700)):\n",
    "    \"\"\"Scales an image to a new size and shows it.\"\"\"\n",
    "    res = im.copy()\n",
    "    res.thumbnail(size, Image.ANTIALIAS)\n",
    "    plt.imshow(res)"
   ]
  },
  {
   "cell_type": "code",
   "execution_count": 6,
   "metadata": {},
   "outputs": [],
   "source": [
    "def FilterChannel(im, save = False, output = \"ImFilterChannel.JPG\", show = False):\n",
    "    \"\"\"\n",
    "    Takes an image and return an image of the red channel only.\n",
    "    Saves it (optional).\n",
    "    \"\"\"\n",
    "    #exif = im.info[\"exif\"]\n",
    "    res = np.array(im)\n",
    "    res[::, ::, 1] = 0 # Delete Red Channel\n",
    "    res[::, ::, 2] = 0 # Delete Red Channel\n",
    "    res = Image.fromarray(res)\n",
    "    if save:\n",
    "        res.save(output, exif=exif)\n",
    "    if show: \n",
    "        ImShowReduced(res)\n",
    "    return(res)"
   ]
  },
  {
   "cell_type": "code",
   "execution_count": 7,
   "metadata": {},
   "outputs": [],
   "source": [
    "def EnhanceIm(im, save = False, output = \"ImEnchanced.JPG\", show = False):\n",
    "    \"\"\"\n",
    "    Takes an image and return an enchanced image with more: sharpness, contrast \n",
    "    and a rotation.\n",
    "    Saves it (optional).\n",
    "    \"\"\"\n",
    "    # Sharpen \n",
    "    enhancer = ImageEnhance.Sharpness(im)\n",
    "    res = enhancer.enhance(8) \n",
    "    # Improve contrast\n",
    "    enhancer = ImageEnhance.Contrast(res)\n",
    "    res = enhancer.enhance(4)\n",
    "    # Rotate\n",
    "    res = res.rotate(90)\n",
    "    # Save \n",
    "    if save:\n",
    "        res.save(output, exif=exif)\n",
    "    if show: \n",
    "        ImShowReduced(res)\n",
    "    return(res)"
   ]
  },
  {
   "cell_type": "code",
   "execution_count": 8,
   "metadata": {},
   "outputs": [],
   "source": [
    "def EdgesDetection(im, save = False, output = \"Edges.JPG\", show = False ):\n",
    "    \"\"\"\n",
    "    Compute the canny edges detection algo (on the red channel of) an image.\n",
    "    Returns a binary image of the detected edges.\n",
    "    \"\"\"\n",
    "    # Canny works with grayscale imgs only\n",
    "    res = np.array(im)[:,:,0]\n",
    "    edges = feature.canny(res, sigma=3)\n",
    "    edges = Image.fromarray(edges)\n",
    "    # Save \n",
    "    if save:\n",
    "        edges.save(output)\n",
    "    # Show\n",
    "    if show: \n",
    "        ImShowReduced(edges)\n",
    "    return(edges)"
   ]
  },
  {
   "cell_type": "code",
   "execution_count": 9,
   "metadata": {},
   "outputs": [],
   "source": [
    "def ImproveEdges(im, save = False, output = \"ImproveEdges.JPG\", show = False ):\n",
    "    \"\"\"\n",
    "    Naive algo that looks at each column of a boolean image\n",
    "    and returns an image where only the top element of each column is taken.\n",
    "    \"\"\"\n",
    "    edges = np.array(im)\n",
    "    new = np.zeros(edges.shape)\n",
    "    # Iterate through columns\n",
    "    for icol, col in enumerate(edges.T):\n",
    "        found = False\n",
    "        # Iterate though each elt of a col\n",
    "        for idx in range(len(col)):\n",
    "            if col[idx]:\n",
    "                if not found:\n",
    "                    # If found the top elt of the col\n",
    "                    # Color it in white\n",
    "                    new[idx-1:idx+2, icol] = 255\n",
    "                    found = True\n",
    "            else:\n",
    "                # Color it in black\n",
    "                new[idx, icol] = 0\n",
    "    # Convert array back to image\n",
    "    res = Image.fromarray(new).convert('1')\n",
    "    # Save \n",
    "    if save:\n",
    "        res.save(output)\n",
    "    # Show\n",
    "    if show: \n",
    "        ImShowReduced(res)\n",
    "    return(res)"
   ]
  },
  {
   "cell_type": "markdown",
   "metadata": {},
   "source": [
    "## Process Images"
   ]
  },
  {
   "cell_type": "code",
   "execution_count": 10,
   "metadata": {},
   "outputs": [],
   "source": [
    "folder = \"laser_2411+\"\n",
    "new_folder = \"laser_2411edges+\"\n",
    "im_nbr = 100\n",
    "end_nbr = 101\n",
    "#end_nbr = im_nbr+1"
   ]
  },
  {
   "cell_type": "code",
   "execution_count": 11,
   "metadata": {},
   "outputs": [
    {
     "name": "stdout",
     "output_type": "stream",
     "text": [
      "laser_2411+\\_DSC3521.JPG\n"
     ]
    }
   ],
   "source": [
    "for image_name in glob.glob(folder+'/*.JPG')[im_nbr:end_nbr]:\n",
    "    ## Open image\n",
    "    print(image_name)\n",
    "    im = Image.open(image_name)\n",
    "    ## Define saving path\n",
    "    output = f\"{new_folder}/{image_name[len(folder)+1:]}\"\n",
    "    ## Crop \n",
    "    res = im.crop((2000, im.size[1]//2, 4500, 2*im.size[1]//3)) \n",
    "    ## Remove Red Channel\n",
    "    #res = FilterChannel(res)\n",
    "    ## Enhance\n",
    "    #res = EnhanceIm(res)\n",
    "    ## Extract Edges\n",
    "    edges = EdgesDetection(res, False, output, False)\n",
    "    ## Improve Edges\n",
    "    edges = ImproveEdges(edges, True, output)"
   ]
  }
 ],
 "metadata": {
  "kernelspec": {
   "display_name": "Python 3",
   "language": "python",
   "name": "python3"
  },
  "language_info": {
   "codemirror_mode": {
    "name": "ipython",
    "version": 3
   },
   "file_extension": ".py",
   "mimetype": "text/x-python",
   "name": "python",
   "nbconvert_exporter": "python",
   "pygments_lexer": "ipython3",
   "version": "3.8.5"
  }
 },
 "nbformat": 4,
 "nbformat_minor": 4
}
